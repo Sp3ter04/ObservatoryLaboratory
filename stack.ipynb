{
 "cells": [
  {
   "cell_type": "code",
   "execution_count": null,
   "id": "f111e186",
   "metadata": {},
   "outputs": [
    {
     "ename": "",
     "evalue": "",
     "output_type": "error",
     "traceback": [
      "\u001b[1;31mThe kernel failed to start as '/Library/Frameworks/Python.framework/Versions/3.12/lib/python3.12/site-packages/psutil/_psutil_osx.abi3.so' could not be imported from '/Library/Frameworks/Python.framework/Versions/3.12/lib/python3.12/site-packages/psutil/_psutil_osx.abi3.so, 0x0002'.\n",
      "\u001b[1;31mClick <a href='https://aka.ms/kernelFailuresModuleImportErrFromFile'>here</a> for more info."
     ]
    }
   ],
   "source": [
    "#First load two other images:\n",
    "dir=\"/Users/vitorclara/Documents/Técnico/LA/S\"\n",
    "data1 = fits.getdata(dir+'altair_Blue_0012.fits')\n",
    "data2 = fits.getdata(dir+'altair_Blue_0013.fits')\n",
    "head1 = fits.getheader(dir+'altair_Blue_0012.fits')\n",
    "head2 = fits.getheader(dir+'altair_Blue_0013.fits')"
   ]
  },
  {
   "cell_type": "code",
   "execution_count": null,
   "id": "aa6b0235",
   "metadata": {},
   "outputs": [],
   "source": [
    "## Obtain rough position with the mouse\n",
    "pos1 = [948,354]\n",
    "pos2 = [1013,811]"
   ]
  },
  {
   "cell_type": "code",
   "execution_count": null,
   "id": "ed7b257d",
   "metadata": {},
   "outputs": [],
   "source": [
    "## Get centroid\n",
    "from photutils.centroids import centroid_com, centroid_2dg  #load centroid libraries\n",
    "subdata1 = data1[pos1[1]-30:pos1[1]+30,pos1[0]-30:pos1[0]+30]#select subportion of 60x60 image\n",
    "subdata2 = data2[pos2[1]-30:pos2[1]+30,pos2[0]-30:pos2[0]+30]#select subportion of 60x60 image\n",
    "plt.imshow(subdata1)\n",
    "center1,center2 = centroid_2dg(subdata1)+pos1-[30,30],centroid_2dg(subdata2)+pos2-[30,30]\n",
    "ccenter1,ccenter2 = centroid_com(subdata1)+pos1-[30,30],centroid_com(subdata2)+pos2-[30,30]\n",
    "print(center1,center2)\n",
    "print(ccenter1,ccenter2)"
   ]
  }
 ],
 "metadata": {
  "kernelspec": {
   "display_name": "Python (global)",
   "language": "python",
   "name": "global-py"
  },
  "language_info": {
   "codemirror_mode": {
    "name": "ipython",
    "version": 3
   },
   "file_extension": ".py",
   "mimetype": "text/x-python",
   "name": "python",
   "nbconvert_exporter": "python",
   "pygments_lexer": "ipython3",
   "version": "3.12.3"
  }
 },
 "nbformat": 4,
 "nbformat_minor": 5
}
