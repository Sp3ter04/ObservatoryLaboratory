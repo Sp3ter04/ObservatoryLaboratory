{
 "cells": [
  {
   "cell_type": "code",
   "execution_count": null,
   "id": "f111e186",
   "metadata": {},
   "outputs": [
    {
     "ename": "NameError",
     "evalue": "name 'fits' is not defined",
     "output_type": "error",
     "traceback": [
      "\u001b[31m---------------------------------------------------------------------------\u001b[39m",
      "\u001b[31mNameError\u001b[39m                                 Traceback (most recent call last)",
      "\u001b[36mCell\u001b[39m\u001b[36m \u001b[39m\u001b[32mIn[1]\u001b[39m\u001b[32m, line 3\u001b[39m\n\u001b[32m      1\u001b[39m \u001b[38;5;66;03m#First load two other images:\u001b[39;00m\n\u001b[32m      2\u001b[39m \u001b[38;5;28mdir\u001b[39m=\u001b[33m\"\u001b[39m\u001b[33m/Users/vitorclara/Documents/Técnico/LA/S\u001b[39m\u001b[33m\"\u001b[39m\n\u001b[32m----> \u001b[39m\u001b[32m3\u001b[39m data1 = \u001b[43mfits\u001b[49m.getdata(\u001b[38;5;28mdir\u001b[39m+\u001b[33m'\u001b[39m\u001b[33maltair_Blue_0012.fits\u001b[39m\u001b[33m'\u001b[39m)\n\u001b[32m      4\u001b[39m data2 = fits.getdata(\u001b[38;5;28mdir\u001b[39m+\u001b[33m'\u001b[39m\u001b[33maltair_Blue_0013.fits\u001b[39m\u001b[33m'\u001b[39m)\n\u001b[32m      5\u001b[39m head1 = fits.getheader(\u001b[38;5;28mdir\u001b[39m+\u001b[33m'\u001b[39m\u001b[33maltair_Blue_0012.fits\u001b[39m\u001b[33m'\u001b[39m)\n",
      "\u001b[31mNameError\u001b[39m: name 'fits' is not defined"
     ]
    }
   ],
   "source": [
    "#First load two other images:\n",
    "dir=\"/Users/vitorclara/Documents/Técnico/LA/S\"\n",
    "data1 = fits.getdata(dir+'altair_Blue_0012.fits')\n",
    "data2 = fits.getdata(dir+'altair_Blue_0013.fits')\n",
    "head1 = fits.getheader(dir+'altair_Blue_0012.fits')\n",
    "head2 = fits.getheader(dir+'altair_Blue_0013.fits')"
   ]
  },
  {
   "cell_type": "code",
   "execution_count": null,
   "id": "aa6b0235",
   "metadata": {},
   "outputs": [],
   "source": [
    "## Obtain rough position with the mouse\n",
    "pos1 = [948,354]\n",
    "pos2 = [1013,811]"
   ]
  },
  {
   "cell_type": "code",
   "execution_count": null,
   "id": "ed7b257d",
   "metadata": {},
   "outputs": [],
   "source": [
    "## Get centroid\n",
    "from photutils.centroids import centroid_com, centroid_2dg  #load centroid libraries\n",
    "subdata1 = data1[pos1[1]-30:pos1[1]+30,pos1[0]-30:pos1[0]+30]#select subportion of 60x60 image\n",
    "subdata2 = data2[pos2[1]-30:pos2[1]+30,pos2[0]-30:pos2[0]+30]#select subportion of 60x60 image\n",
    "plt.imshow(subdata1)\n",
    "center1,center2 = centroid_2dg(subdata1)+pos1-[30,30],centroid_2dg(subdata2)+pos2-[30,30]\n",
    "ccenter1,ccenter2 = centroid_com(subdata1)+pos1-[30,30],centroid_com(subdata2)+pos2-[30,30]\n",
    "print(center1,center2)\n",
    "print(ccenter1,ccenter2)"
   ]
  }
 ],
 "metadata": {
  "kernelspec": {
   "display_name": ".venv",
   "language": "python",
   "name": "python3"
  },
  "language_info": {
   "codemirror_mode": {
    "name": "ipython",
    "version": 3
   },
   "file_extension": ".py",
   "mimetype": "text/x-python",
   "name": "python",
   "nbconvert_exporter": "python",
   "pygments_lexer": "ipython3",
   "version": "3.12.3"
  }
 },
 "nbformat": 4,
 "nbformat_minor": 5
}
